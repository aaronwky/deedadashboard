{
 "cells": [
  {
   "cell_type": "code",
   "execution_count": 4,
   "metadata": {},
   "outputs": [],
   "source": [
    "import pandas as pd\n",
    "\n",
    "# Load data\n",
    "deeda_data = pd.read_json(\"donation_data_deeda.json\")\n",
    "givingsg_data = pd.read_json(\"donation_data_givingsg.json\")\n",
    "\n",
    "# Convert donateTime to datetime format and extract the date\n",
    "for df in [deeda_data, givingsg_data]:\n",
    "    df['donateTime'] = pd.to_datetime(df['donateTime'], unit='ms')\n",
    "    df['donateDay'] = df['donateTime'].dt.date\n",
    "\n",
    "# Group by charity_name, campaign_name, and donateDay to count donations per day\n",
    "deeda_summary = deeda_data.groupby(['charity_name', 'campaign_name', 'donateDay']).size().reset_index(name='donationCount')\n",
    "givingsg_summary = givingsg_data.groupby(['charity_name', 'campaign_name', 'donateDay']).size().reset_index(name='donationCount')\n",
    "\n",
    "# Save the summaries in JSON format\n",
    "deeda_summary.to_json(\"donor_count_deeda.json\", orient=\"records\")\n",
    "givingsg_summary.to_json(\"donor_count_givingsg.json\", orient=\"records\")\n",
    "\n",
    "\n"
   ]
  }
 ],
 "metadata": {
  "kernelspec": {
   "display_name": "base",
   "language": "python",
   "name": "python3"
  },
  "language_info": {
   "codemirror_mode": {
    "name": "ipython",
    "version": 3
   },
   "file_extension": ".py",
   "mimetype": "text/x-python",
   "name": "python",
   "nbconvert_exporter": "python",
   "pygments_lexer": "ipython3",
   "version": "3.11.5"
  }
 },
 "nbformat": 4,
 "nbformat_minor": 2
}
