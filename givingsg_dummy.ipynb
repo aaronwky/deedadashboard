{
 "cells": [
  {
   "cell_type": "code",
   "execution_count": 4,
   "metadata": {},
   "outputs": [
    {
     "name": "stdout",
     "output_type": "stream",
     "text": [
      "donation_data_givingsg.json has been created successfully.\n"
     ]
    }
   ],
   "source": [
    "import json\n",
    "from datetime import datetime\n",
    "\n",
    "# Load data from the provided files\n",
    "with open(\"givingsg/06-11-2024/donation.json\") as donation_file:\n",
    "    donations = json.load(donation_file)\n",
    "\n",
    "with open(\"givingsg/06-11-2024/campaignDetais.json\") as campaign_file:\n",
    "    campaigns = json.load(campaign_file)\n",
    "\n",
    "# Create a dictionary for quick lookup of campaign details by CampaignId\n",
    "campaign_details = {campaign['CampaignId']: campaign for campaign in campaigns}\n",
    "\n",
    "# Prepare the output data\n",
    "output_data = []\n",
    "\n",
    "for donation in donations:\n",
    "    campaign_id = donation['CampaignId']\n",
    "    if campaign_id in campaign_details:\n",
    "        # Get the matching campaign details\n",
    "        campaign = campaign_details[campaign_id]\n",
    "        charity_name = campaign['CharityName']\n",
    "        campaign_name = campaign['CampaignTitle']\n",
    "        \n",
    "        # Process each donor entry in the list\n",
    "        for donor in donation['listofdonor']:\n",
    "            donation_amount = float(donor['DonatedAmount'])\n",
    "            \n",
    "            # Convert ISO 8601 date format to milliseconds since epoch\n",
    "            donate_time = int(datetime.strptime(donor['DonatedOn'], \"%Y-%m-%dT%H:%M:%SZ\").timestamp() * 1000)\n",
    "            \n",
    "            # Append the formatted entry to output_data\n",
    "            output_data.append({\n",
    "                \"charity_name\": charity_name,\n",
    "                \"campaign_name\": campaign_name,\n",
    "                \"donation_amount\": donation_amount,\n",
    "                \"donateTime\": donate_time\n",
    "            })\n",
    "\n",
    "# Write the output to a JSON file\n",
    "with open(\"donation_data_givingsg.json\", \"w\") as output_file:\n",
    "    json.dump(output_data, output_file, indent=4)\n",
    "\n",
    "print(\"donation_data_givingsg.json has been created successfully.\")\n"
   ]
  }
 ],
 "metadata": {
  "kernelspec": {
   "display_name": "base",
   "language": "python",
   "name": "python3"
  },
  "language_info": {
   "codemirror_mode": {
    "name": "ipython",
    "version": 3
   },
   "file_extension": ".py",
   "mimetype": "text/x-python",
   "name": "python",
   "nbconvert_exporter": "python",
   "pygments_lexer": "ipython3",
   "version": "3.11.5"
  }
 },
 "nbformat": 4,
 "nbformat_minor": 2
}
