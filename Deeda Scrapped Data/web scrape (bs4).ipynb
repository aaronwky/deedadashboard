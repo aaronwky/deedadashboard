{
 "cells": [
  {
   "cell_type": "code",
   "execution_count": 1,
   "id": "2185b9ab",
   "metadata": {},
   "outputs": [
    {
     "name": "stdout",
     "output_type": "stream",
     "text": [
      "Defaulting to user installation because normal site-packages is not writeable\n",
      "Requirement already satisfied: requests in c:\\users\\regin\\appdata\\roaming\\python\\python310\\site-packages (2.31.0)\n",
      "Requirement already satisfied: idna<4,>=2.5 in c:\\programdata\\anaconda3\\lib\\site-packages (from requests) (3.4)\n",
      "Requirement already satisfied: certifi>=2017.4.17 in c:\\programdata\\anaconda3\\lib\\site-packages (from requests) (2023.5.7)\n",
      "Requirement already satisfied: urllib3<3,>=1.21.1 in c:\\programdata\\anaconda3\\lib\\site-packages (from requests) (1.26.14)\n",
      "Requirement already satisfied: charset-normalizer<4,>=2 in c:\\programdata\\anaconda3\\lib\\site-packages (from requests) (2.0.4)\n"
     ]
    }
   ],
   "source": [
    "# !pip3 install requests"
   ]
  },
  {
   "cell_type": "code",
   "execution_count": 2,
   "id": "91242317",
   "metadata": {},
   "outputs": [
    {
     "name": "stdout",
     "output_type": "stream",
     "text": [
      "Defaulting to user installation because normal site-packages is not writeable\n",
      "Requirement already satisfied: html5lib in c:\\users\\regin\\appdata\\roaming\\python\\python310\\site-packages (1.1)\n",
      "Requirement already satisfied: webencodings in c:\\programdata\\anaconda3\\lib\\site-packages (from html5lib) (0.5.1)\n",
      "Requirement already satisfied: six>=1.9 in c:\\programdata\\anaconda3\\lib\\site-packages (from html5lib) (1.16.0)\n"
     ]
    }
   ],
   "source": [
    "# !pip install html5lib"
   ]
  },
  {
   "cell_type": "code",
   "execution_count": 3,
   "id": "02290afa",
   "metadata": {},
   "outputs": [
    {
     "name": "stdout",
     "output_type": "stream",
     "text": [
      "Defaulting to user installation because normal site-packages is not writeable\n",
      "Collecting bs4\n",
      "  Downloading bs4-0.0.2-py2.py3-none-any.whl (1.2 kB)\n",
      "Requirement already satisfied: beautifulsoup4 in c:\\programdata\\anaconda3\\lib\\site-packages (from bs4) (4.11.1)\n",
      "Requirement already satisfied: soupsieve>1.2 in c:\\programdata\\anaconda3\\lib\\site-packages (from beautifulsoup4->bs4) (2.3.2.post1)\n",
      "Installing collected packages: bs4\n",
      "Successfully installed bs4-0.0.2\n"
     ]
    }
   ],
   "source": [
    "# !pip install bs4"
   ]
  },
  {
   "cell_type": "code",
   "execution_count": 7,
   "id": "1a3f668b",
   "metadata": {},
   "outputs": [
    {
     "name": "stdout",
     "output_type": "stream",
     "text": [
      "Campaign title not found\n",
      "Amount raised not found\n"
     ]
    }
   ],
   "source": [
    "import requests\n",
    "from bs4 import BeautifulSoup\n",
    "\n",
    "# Step 1: Send a GET request to the website\n",
    "url = \"https://www.deeda.care/sg/f/charity-detail/89692394-1b55-40ae-beaa-d5dac948d37f/singapore-red-cross-society?subchannel=web_charity_list\"\n",
    "response = requests.get(url)\n",
    "\n",
    "# Step 2: Parse the HTML content using BeautifulSoup\n",
    "soup = BeautifulSoup(response.text, 'html.parser')\n",
    "\n",
    "# Step 3: Check if the campaign title exists and print it\n",
    "# Update the tag based on your inspection\n",
    "title_tag = soup.find('h1')  # Adjust based on the actual HTML structure\n",
    "if title_tag:\n",
    "    campaign_title = title_tag.get_text()\n",
    "    print(\"Campaign Title:\", campaign_title)\n",
    "else:\n",
    "    print(\"Campaign title not found\")\n",
    "\n",
    "# Step 4: Check if the amount raised exists and print it\n",
    "# Update the class or tag based on the actual HTML structure\n",
    "amount_tag = soup.find('span', {'class': 'some-amount-class'})  # Modify the class\n",
    "if amount_tag:\n",
    "    amount_raised = amount_tag.get_text()\n",
    "    print(\"Amount Raised:\", amount_raised)\n",
    "else:\n",
    "    print(\"Amount raised not found\")\n"
   ]
  },
  {
   "cell_type": "code",
   "execution_count": 8,
   "id": "9ab89173",
   "metadata": {},
   "outputs": [
    {
     "data": {
      "text/html": [
       "<div>\n",
       "<style scoped>\n",
       "    .dataframe tbody tr th:only-of-type {\n",
       "        vertical-align: middle;\n",
       "    }\n",
       "\n",
       "    .dataframe tbody tr th {\n",
       "        vertical-align: top;\n",
       "    }\n",
       "\n",
       "    .dataframe thead th {\n",
       "        text-align: right;\n",
       "    }\n",
       "</style>\n",
       "<table border=\"1\" class=\"dataframe\">\n",
       "  <thead>\n",
       "    <tr style=\"text-align: right;\">\n",
       "      <th></th>\n",
       "      <th>Charity Organization</th>\n",
       "      <th>Donations</th>\n",
       "    </tr>\n",
       "  </thead>\n",
       "  <tbody>\n",
       "  </tbody>\n",
       "</table>\n",
       "</div>"
      ],
      "text/plain": [
       "Empty DataFrame\n",
       "Columns: [Charity Organization, Donations]\n",
       "Index: []"
      ]
     },
     "metadata": {},
     "output_type": "display_data"
    }
   ],
   "source": [
    "import requests\n",
    "from bs4 import BeautifulSoup\n",
    "\n",
    "\n",
    "# Step 1: Send a GET request to the website\n",
    "url = \"https://www.deeda.care/sg/f/charity-list?channel=sem&channel=sem&subchannel=web_charity_list\"\n",
    "response = requests.get(url)\n",
    "\n",
    "# Step 2: Parse the page content\n",
    "soup = BeautifulSoup(response.content, 'html.parser')\n",
    "\n",
    "# Step 3: Identify where the charity organizations and donations data are located\n",
    "charity_list = []\n",
    "donations_list = []\n",
    "\n",
    "# Example: Adjust based on actual HTML structure (e.g., 'h3' for charity name and 'span' for donation amount).\n",
    "for charity in soup.find_all('h3', class_='charity-name-class'):  # Adjust class and tag based on real structure\n",
    "    charity_name = charity.text.strip()\n",
    "    charity_list.append(charity_name)\n",
    "\n",
    "for donation in soup.find_all('span', class_='donation-amount-class'):  # Adjust class and tag based on real structure\n",
    "    donation_amount = donation.text.strip()\n",
    "    donations_list.append(donation_amount)\n",
    "\n",
    "# Step 4: Store the data in a pandas DataFrame\n",
    "data = {'Charity Organization': charity_list, 'Donations': donations_list}\n",
    "df = pd.DataFrame(data)\n",
    "\n",
    "# Step 5: Display the DataFrame directly in Jupyter\n",
    "display(df)  # This will output the DataFrame in Jupyter Notebook"
   ]
  },
  {
   "cell_type": "code",
   "execution_count": null,
   "id": "fcd49a41",
   "metadata": {},
   "outputs": [],
   "source": []
  },
  {
   "cell_type": "code",
   "execution_count": null,
   "id": "c3e86f76",
   "metadata": {},
   "outputs": [],
   "source": []
  },
  {
   "cell_type": "code",
   "execution_count": null,
   "id": "afdc0ff0",
   "metadata": {},
   "outputs": [],
   "source": []
  }
 ],
 "metadata": {
  "kernelspec": {
   "display_name": "Python 3 (ipykernel)",
   "language": "python",
   "name": "python3"
  },
  "language_info": {
   "codemirror_mode": {
    "name": "ipython",
    "version": 3
   },
   "file_extension": ".py",
   "mimetype": "text/x-python",
   "name": "python",
   "nbconvert_exporter": "python",
   "pygments_lexer": "ipython3",
   "version": "3.10.9"
  }
 },
 "nbformat": 4,
 "nbformat_minor": 5
}
