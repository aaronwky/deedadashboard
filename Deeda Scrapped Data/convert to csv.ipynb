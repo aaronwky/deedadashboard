{
 "cells": [
  {
   "cell_type": "code",
   "execution_count": 1,
   "id": "bbd0cdc2",
   "metadata": {},
   "outputs": [],
   "source": [
    "# save to json file \n",
    "import json\n",
    "import requests\n",
    "with open('aggregated_data.json', 'r') as file:\n",
    "    data = json.load(file)"
   ]
  },
  {
   "cell_type": "code",
   "execution_count": 3,
   "id": "b1cf4c71",
   "metadata": {},
   "outputs": [],
   "source": [
    "import json\n",
    "import csv\n",
    "\n",
    "# Read the JSON file\n",
    "with open('aggregated_data.json', 'r', encoding='utf-8') as file:\n",
    "    data = json.load(file)\n",
    "\n",
    "export_csv = []\n",
    "\n",
    "# Process the data and prepare for CSV export\n",
    "for charity in data:\n",
    "    for campaign in charity['list_campaigns']:\n",
    "        charity_item = {\n",
    "            \"charity_name\": charity['name'],\n",
    "            \"campaign_name\": campaign['title'],\n",
    "            \"detailedStory\": campaign[\"detailedStory\"]\n",
    "        }\n",
    "        export_csv.append(charity_item)\n",
    "\n",
    "# Export to CSV\n",
    "keys = export_csv[0].keys()\n",
    "with open('campaign_description_data.csv', 'w', newline='', encoding='utf-8') as output_file:\n",
    "    dict_writer = csv.DictWriter(output_file, fieldnames=keys)\n",
    "    dict_writer.writeheader()\n",
    "    dict_writer.writerows(export_csv)\n"
   ]
  },
  {
   "cell_type": "code",
   "execution_count": 4,
   "id": "8b36bbcc",
   "metadata": {},
   "outputs": [],
   "source": [
    "import json\n",
    "import csv\n",
    "\n",
    "# Read the JSON file\n",
    "with open('aggregated_data.json', 'r', encoding='utf-8') as file:\n",
    "    data = json.load(file)\n",
    "\n",
    "export_csv = []\n",
    "\n",
    "# Process the data and prepare for CSV export\n",
    "for charity in data:\n",
    "    \n",
    "    for campaign in charity['list_campaigns']:\n",
    "        donations_count = len(campaign['list_donations'])\n",
    "        donation_amount = sum([donation['amount'] for donation in campaign['list_donations']])/100\n",
    "        comments_count = len(campaign['list_comments'])\n",
    "        charity_item = {\n",
    "            \"charity_name\": charity['name'],\n",
    "            \"campaign_name\": campaign['title'],\n",
    "            \"donations_count\": donations_count,\n",
    "            \"donation_amount\": donation_amount,\n",
    "            \"comments_count\": comments_count\n",
    "        }\n",
    "        export_csv.append(charity_item)\n",
    "\n",
    "# Export to CSV\n",
    "keys = export_csv[0].keys()\n",
    "with open('campaigns_data.csv', 'w', newline='', encoding='utf-8') as output_file:  # Use utf-8 encoding\n",
    "    dict_writer = csv.DictWriter(output_file, fieldnames=keys)\n",
    "    dict_writer.writeheader()\n",
    "    dict_writer.writerows(export_csv)"
   ]
  },
  {
   "cell_type": "code",
   "execution_count": null,
   "id": "4fb91ee4",
   "metadata": {},
   "outputs": [],
   "source": []
  }
 ],
 "metadata": {
  "kernelspec": {
   "display_name": "Python 3 (ipykernel)",
   "language": "python",
   "name": "python3"
  },
  "language_info": {
   "codemirror_mode": {
    "name": "ipython",
    "version": 3
   },
   "file_extension": ".py",
   "mimetype": "text/x-python",
   "name": "python",
   "nbconvert_exporter": "python",
   "pygments_lexer": "ipython3",
   "version": "3.10.9"
  }
 },
 "nbformat": 4,
 "nbformat_minor": 5
}
